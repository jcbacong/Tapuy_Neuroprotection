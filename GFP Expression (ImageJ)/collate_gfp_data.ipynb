{
 "cells": [
  {
   "attachments": {},
   "cell_type": "markdown",
   "metadata": {},
   "source": [
    "## Analysing GFP Expression\n",
    "This notebook presents an automated data processing of `.csv` files obtained from the `ImageJ` macros. \n",
    "This requires both the image sources (raw GFP images) and the csv files derived from the macro. Take note that this script requires you to specify the `strain` of the *C. elegans* at the beginning.\n",
    "\n",
    "The outputs of this program are `.csv` files:\n",
    "- `controls.csv`\n",
    "- `treatment.csv`\n",
    "\n",
    "They contain the `Mean` intensity, the `Area`, and other `ImageJ` parameters for each neuronal type (see `to_melted_dataframe` function). These `.csv` files will be used in further statistical analysis in `R`. "
   ]
  },
  {
   "attachments": {},
   "cell_type": "markdown",
   "metadata": {},
   "source": [
    "### Specify the strain of *C. elegans*\n",
    "Select below the strain of *C. elegans* to be analyzed. \n",
    "1. **LX929**    : GFP-expressed *cholinergic* neurons\n",
    "\n",
    "2. **BZ555**    : GFP-expressed *dopaminergic* neurons\n",
    "\n",
    "3. **EG1428**   : GFP-expressed *GABAergic* neurons\n",
    "\n",
    "4. **OH441**    : GFP-expressed *pan-neuronal*"
   ]
  },
  {
   "cell_type": "code",
   "execution_count": 1,
   "metadata": {},
   "outputs": [
    {
     "name": "stdout",
     "output_type": "stream",
     "text": [
      "LX929\n"
     ]
    }
   ],
   "source": [
    "## 1. LX929 : GFP-expressed cholinergic neurons\n",
    "strain = 'LX929'\n",
    "img_type = 'png'\n",
    "\n",
    "\n",
    "## 2. BZ555 : GFP-expressed dopaminergic neurons\n",
    "# strain = 'BZ555'\n",
    "# img_type = 'tif'\n",
    "\n",
    "\n",
    "# ##3. EG1428 : GFP-expressed GABA-ergic neurons\n",
    "# strain = 'EG1285'\n",
    "# img_type = 'tif'\n",
    "\n",
    "\n",
    "##4. OH441 : GFP-expressed pan-neuronal\n",
    "# strain = 'OH441'\n",
    "# img_type = 'tif'\n",
    "\n",
    "\n",
    "gradient_scheme = [\"#2effa4\", \"#38cfb2\", \"#41a0bf\", \"#4a71cc\"] ## all\n",
    "print(strain)\n"
   ]
  },
  {
   "cell_type": "markdown",
   "metadata": {},
   "source": [
    "\n",
    "#### Import and prepare files"
   ]
  },
  {
   "cell_type": "code",
   "execution_count": null,
   "metadata": {},
   "outputs": [],
   "source": [
    "import os\n",
    "import glob\n",
    "import numpy as np\n",
    "import pandas as pd\n",
    "\n",
    "## Folder names and location\n",
    "infolder = 'output'\n",
    "imgsrc = 'img_src'\n",
    "\n",
    "## List of working files\n",
    "csvfiles = np.sort([f for f in glob.glob(os.path.join(strain, infolder, \"*.csv\"))])\n",
    "imgfiles = np.sort([f for f in glob.glob(os.path.join(strain, imgsrc, \"*\"))])\n",
    "\n",
    "print(csvfiles[0], len(csvfiles))\n",
    "print(imgfiles[0], len(imgfiles))\n",
    "\n",
    "print(csvfiles[1])\n",
    "\n",
    "\n"
   ]
  },
  {
   "cell_type": "code",
   "execution_count": null,
   "metadata": {},
   "outputs": [],
   "source": [
    "## Define controls and treatment\n",
    "## Controls and treatment\n",
    "control = {'OP50':None,  'EGCG':None}\n",
    "treatment = {'fwl':None, 'fwm':None, 'fwh':None,\n",
    "            'lwl':None, 'lwm':None, 'lwh':None,\n",
    "            'fll':None, 'flm':None, 'flh':None,\n",
    "            'lll':None, 'llm':None, 'llh':None}\n",
    "            \n",
    "print(control, [*control.keys()])\n",
    "print(treatment)"
   ]
  },
  {
   "cell_type": "markdown",
   "metadata": {},
   "source": [
    "## Controls and Treatment\n",
    "We prepare the necessary dataframe for both controls and treatment. The function `to_melted_dataframe` transforms the raw `imglist` and `csvlist` into a dataframe that consists of the `Area`, `RawIntDen`, `control` and `time` per sample. We then compute for the mean and the standard error of each time point, and visualize the results using `ggplot`. "
   ]
  },
  {
   "cell_type": "code",
   "execution_count": 4,
   "metadata": {},
   "outputs": [],
   "source": [
    "## Define function for controls and treatment\n",
    "import cv2\n",
    "\n",
    "def to_melted_dataframe(type, cols = [\"control\", \"time\", \"RawIntDen\"], csvfiles = csvfiles, imgfiles = imgfiles, img_type=\"png\", save=True, filepath = 'controls.csv'):\n",
    "    ''''\n",
    "    Returns melted dataframe which contains the cols from csvfiles for selected type i.e. control or treatment.\n",
    "    Inputs:\n",
    "            type        : control or treatment dictionary\n",
    "            cols        : column name i.e. default\n",
    "            csvfiles    : list of csv files\n",
    "            imgfiles    : list of images \n",
    "            img_type    : file extension of the raw images e.g. png, tif\n",
    "            filepath    : full path (.csv) of the dataframe, set save = True by default\n",
    "    Output:\n",
    "            sgdf        : Dataframe with cols of the type i.e. control/treatment\n",
    "    '''\n",
    "\n",
    "    sgdf = pd.DataFrame(columns=cols)\n",
    "    for ctrlname in [*type.keys()]:\n",
    "        ctrls = [f for f in csvfiles if f.__contains__(ctrlname.lower())]\n",
    "        for f in ctrls:\n",
    "            if f.__contains__('t0'):\n",
    "                pt = 't0'\n",
    "            elif f.__contains__('t3'):\n",
    "                pt = 't3'\n",
    "            elif f.__contains__('t6'):\n",
    "                pt = 't6'\n",
    "            elif f.__contains__('t9'):\n",
    "                pt = 't9'\n",
    "            elif (len(f.split(\"/\")[2].split(\" \")) < 4):\n",
    "                pt = 't0'\n",
    "\n",
    "            df = pd.read_csv(f)\n",
    "            ## Extract image\n",
    "            imgf = f.replace(\" Results.csv\", \".\"+img_type).split(\"/\")[2]\n",
    "\n",
    "            ## Filtering\n",
    "            try:\n",
    "                imgff = [f for f in imgfiles if f.__contains__(imgf.lower())][0]\n",
    "                img = cv2.imread(imgff)\n",
    "                G = img[:,:,1]\n",
    "                G = G[G>0] ## Remove zeroes first\n",
    "                mean_intensity = np.mean(G) ## Take mean\n",
    "                r = f.split(\"/\")[2].split(\" \")[0][-1]\n",
    "            except TypeError:\n",
    "                raise TypeError\n",
    "    \n",
    "            ## Filter mean > mean_intensity and area > 1\n",
    "            sdf = df[(df.Mean > mean_intensity)]\n",
    "            sdf = sdf[(sdf.Area > 1)]\n",
    "\n",
    "            ## Sanity check if this part here gets filtered\n",
    "            # if len(df)!=len(sdf):\n",
    "            #     print(\"Filtered: \", imgf, len(df), len(sdf))       \n",
    "             \n",
    "            sgdf = pd.concat([sgdf, pd.DataFrame({\n",
    "                                        \"Mean\": sdf.Mean,\n",
    "                                        \"Area\": sdf.Area,\n",
    "                                        \"RawIntDen\":sdf.RawIntDen, \n",
    "                                        \"control\":[ctrlname]*len(sdf.RawIntDen),\n",
    "                                        \"time\": [pt]*len(sdf.RawIntDen),\n",
    "                                        \"rep\": r\n",
    "                                        })], ignore_index=True)\n",
    "\n",
    "    sgdf.RawIntDen = sgdf.RawIntDen.astype('float') \n",
    "    if save:\n",
    "        sgdf.to_csv(filepath)\n",
    "    return sgdf"
   ]
  },
  {
   "cell_type": "markdown",
   "metadata": {},
   "source": [
    "## 1. Controls"
   ]
  },
  {
   "cell_type": "code",
   "execution_count": null,
   "metadata": {},
   "outputs": [],
   "source": [
    "import os\n",
    "\n",
    "## Apply the function to the control\n",
    "ctrl_filepath = os.path.join(strain, 'controls-2.csv')\n",
    "sgdf = to_melted_dataframe(control, csvfiles = csvfiles, imgfiles = imgfiles, img_type=img_type, save=True, filepath = ctrl_filepath)\n",
    "print(\"Control: \", sgdf.control.unique())\n",
    "sgdf.head(10)\n"
   ]
  },
  {
   "cell_type": "markdown",
   "metadata": {},
   "source": [
    "## 2. Treatment"
   ]
  },
  {
   "cell_type": "code",
   "execution_count": null,
   "metadata": {},
   "outputs": [],
   "source": [
    "import os\n",
    "\n",
    "## Apply the function to the control\n",
    "tx_filepath = os.path.join(strain, 'treatment-2.csv')\n",
    "tgdf = to_melted_dataframe(treatment, csvfiles = csvfiles, imgfiles = imgfiles, img_type=img_type, save=True, filepath = tx_filepath)\n",
    "print(\"Treatment: \", tgdf.control.unique())\n",
    "tgdf.head(10)\n"
   ]
  }
 ],
 "metadata": {
  "kernelspec": {
   "display_name": "snorlax",
   "language": "python",
   "name": "python3"
  },
  "language_info": {
   "codemirror_mode": {
    "name": "ipython",
    "version": 3
   },
   "file_extension": ".py",
   "mimetype": "text/x-python",
   "name": "python",
   "nbconvert_exporter": "python",
   "pygments_lexer": "ipython3",
   "version": "3.6.13"
  },
  "orig_nbformat": 4,
  "vscode": {
   "interpreter": {
    "hash": "ff7f3e3c347ee6fb7dcbdaa2297ccca1cb0a8164012ba55a849ae72b0a39db50"
   }
  }
 },
 "nbformat": 4,
 "nbformat_minor": 2
}
